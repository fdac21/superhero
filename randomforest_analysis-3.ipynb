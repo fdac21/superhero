{
 "cells": [
  {
   "cell_type": "code",
   "execution_count": 55,
   "id": "chemical-brunswick",
   "metadata": {},
   "outputs": [],
   "source": [
    "#Grace\n",
    "import sys\n",
    "sys.path.append('src/')\n",
    "import preprocessing as pp\n",
    "from importlib import reload # reload \n",
    "import pandas as pd\n",
    "import numpy as np\n",
    "from sklearn.feature_extraction.text import TfidfVectorizer\n",
    "from sklearn.model_selection import train_test_split\n",
    "from sklearn.preprocessing import LabelEncoder, OneHotEncoder\n",
    "from nltk.corpus import stopwords\n",
    "stopwords = set(stopwords.words('english'))\n",
    "from sklearn.ensemble import RandomForestClassifier\n",
    "from sklearn.metrics import f1_score\n",
    "from sklearn.model_selection import cross_val_score\n",
    "from sklearn.metrics import precision_recall_fscore_support\n",
    "from sklearn.metrics import classification_report,confusion_matrix\n",
    "from sklearn.model_selection import GridSearchCV\n",
    "\n",
    "#reload(pp)\n",
    "df = pd.read_csv(\"superheroes_nlp_dataset.csv\")\n",
    "\n",
    "### NLP PRE-PROCESSING\n",
    "# replace nulls\n",
    "df = pp.fill_na_columns(df)\n",
    "\n",
    "# lowercase\n",
    "df = pp.lowercase_columns(df)\n",
    "\n",
    "# remove stopwords\n",
    "df = pp.remove_stopwords(df, ['history_text', 'powers_text'])\n",
    "\n",
    "# lematize\n",
    "df = pp.lemmatize_columns(df, ['history_text', 'powers_text'])\n",
    "pd.set_option('display.max_colwidth', None) #Allows you to see the whole row\n"
   ]
  },
  {
   "cell_type": "code",
   "execution_count": 56,
   "id": "sized-devil",
   "metadata": {},
   "outputs": [],
   "source": [
    "# Removing Empty Lists\n",
    "#df[df.history_text.apply(lambda c: c != [])]\n",
    "#History\n",
    "df = df[df.history_text.apply(lambda c: c != [])] #90\n",
    "#Powers \n",
    "#df = data[data.powers_text.apply(lambda c: c != [])] #Too much missing 375 \n",
    "\n",
    "#Limit Data to Creators who have count > 10\n",
    "#8 Different Comic Creators\n",
    "creators_list = ['marvel comics', 'dc comics', 'shueisha','lego', 'george lucas','image comics','nbc - heroes','dark horse comics' ]\n",
    "df = df[df.creator.isin(creators_list)]"
   ]
  },
  {
   "cell_type": "code",
   "execution_count": 57,
   "id": "final-farmer",
   "metadata": {},
   "outputs": [
    {
     "data": {
      "text/plain": [
       "marvel comics        583\n",
       "dc comics            414\n",
       "shueisha              35\n",
       "dark horse comics     26\n",
       "lego                  22\n",
       "george lucas          18\n",
       "image comics          16\n",
       "nbc - heroes          15\n",
       "Name: creator, dtype: int64"
      ]
     },
     "execution_count": 57,
     "metadata": {},
     "output_type": "execute_result"
    }
   ],
   "source": [
    "df.creator.value_counts()"
   ]
  },
  {
   "cell_type": "code",
   "execution_count": 58,
   "id": "tested-client",
   "metadata": {},
   "outputs": [],
   "source": [
    "#Using just history_text\n",
    "X = df['history_text'].astype('string')\n",
    "y = df['creator']#.to_numpy()\n",
    "\n",
    "# create our tfidf vectorizer stuff\n",
    "vectorizer = TfidfVectorizer(min_df = 10, ngram_range=(1, 2), max_features=10000 ,stop_words = {'one', 'later', 'would', 'also'})\n",
    "history_tfidf = vectorizer.fit_transform(X)\n",
    "history_tfidf =  history_tfidf.toarray()"
   ]
  },
  {
   "cell_type": "code",
   "execution_count": 59,
   "id": "streaming-desperate",
   "metadata": {},
   "outputs": [
    {
     "data": {
      "text/html": [
       "<div>\n",
       "<style scoped>\n",
       "    .dataframe tbody tr th:only-of-type {\n",
       "        vertical-align: middle;\n",
       "    }\n",
       "\n",
       "    .dataframe tbody tr th {\n",
       "        vertical-align: top;\n",
       "    }\n",
       "\n",
       "    .dataframe thead th {\n",
       "        text-align: right;\n",
       "    }\n",
       "</style>\n",
       "<table border=\"1\" class=\"dataframe\">\n",
       "  <thead>\n",
       "    <tr style=\"text-align: right;\">\n",
       "      <th></th>\n",
       "      <th>tfidf</th>\n",
       "    </tr>\n",
       "  </thead>\n",
       "  <tbody>\n",
       "    <tr>\n",
       "      <th>time</th>\n",
       "      <td>1.749577</td>\n",
       "    </tr>\n",
       "    <tr>\n",
       "      <th>new</th>\n",
       "      <td>1.757096</td>\n",
       "    </tr>\n",
       "    <tr>\n",
       "      <th>however</th>\n",
       "      <td>1.841709</td>\n",
       "    </tr>\n",
       "    <tr>\n",
       "      <th>power</th>\n",
       "      <td>1.845824</td>\n",
       "    </tr>\n",
       "    <tr>\n",
       "      <th>him</th>\n",
       "      <td>1.858272</td>\n",
       "    </tr>\n",
       "    <tr>\n",
       "      <th>became</th>\n",
       "      <td>1.925180</td>\n",
       "    </tr>\n",
       "    <tr>\n",
       "      <th>eventually</th>\n",
       "      <td>1.943198</td>\n",
       "    </tr>\n",
       "    <tr>\n",
       "      <th>life</th>\n",
       "      <td>1.954627</td>\n",
       "    </tr>\n",
       "    <tr>\n",
       "      <th>man</th>\n",
       "      <td>1.977884</td>\n",
       "    </tr>\n",
       "    <tr>\n",
       "      <th>member</th>\n",
       "      <td>2.031036</td>\n",
       "    </tr>\n",
       "  </tbody>\n",
       "</table>\n",
       "</div>"
      ],
      "text/plain": [
       "               tfidf\n",
       "time        1.749577\n",
       "new         1.757096\n",
       "however     1.841709\n",
       "power       1.845824\n",
       "him         1.858272\n",
       "became      1.925180\n",
       "eventually  1.943198\n",
       "life        1.954627\n",
       "man         1.977884\n",
       "member      2.031036"
      ]
     },
     "execution_count": 59,
     "metadata": {},
     "output_type": "execute_result"
    }
   ],
   "source": [
    "#  create a dictionary mapping the tokens to their tfidf values\n",
    "tfidf = dict(zip(vectorizer.get_feature_names(), vectorizer.idf_))\n",
    "tfidf = pd.DataFrame(columns=['tfidf']).from_dict(\n",
    "                    dict(tfidf), orient='index')\n",
    "tfidf.columns = ['tfidf']\n",
    "tfidf.sort_values(by=['tfidf'], ascending=True).head(10)"
   ]
  },
  {
   "cell_type": "code",
   "execution_count": 60,
   "id": "following-newspaper",
   "metadata": {},
   "outputs": [],
   "source": [
    "#y = df['creator']#.to_numpy()\n",
    "#X = df.loc[:, ['history_text', 'powers_text']]\n",
    "# one hot encode our labels and features for prediction sake\n",
    "le = LabelEncoder()\n",
    "#oe = OneHotEncoder(sparse=False)\n",
    "\n",
    "# integer_X = le.fit_transform(vectorizer.get_feature_names())\n",
    "# integer_X = integer_X.reshape(len(integer_X), 1)\n",
    "# onehot_X = oe.fit_transform(integer_X)\n",
    "\n",
    "integer_y = le.fit_transform(y)\n",
    "#integer_y = integer_y.reshape(len(integer_y), 1)\n",
    "#onehot_y = oe.fit_transform(integer_y)\n",
    "\n",
    "\n",
    "# get back the original labels\n",
    "# inverted = le.inverse_transform([np.argmax(onehot_y[0])])\n",
    "# this is how we'd get out the actual label names of the encoder\n",
    "# for i in onehot_y:\n",
    "#     print(le.inverse_transform([np.argmax(i)]))\n",
    "\n",
    "# create test and train set\n",
    "X_train, X_test = train_test_split(\n",
    "    history_tfidf,\n",
    "    test_size=0.20,\n",
    "    random_state=42069\n",
    ")\n",
    "y_train, y_test = train_test_split(\n",
    "    integer_y,\n",
    "    test_size=0.20,\n",
    "    random_state=42069\n",
    ")\n"
   ]
  },
  {
   "cell_type": "code",
   "execution_count": 61,
   "id": "surface-transsexual",
   "metadata": {},
   "outputs": [
    {
     "data": {
      "text/plain": [
       "(226, 5831)"
      ]
     },
     "execution_count": 61,
     "metadata": {},
     "output_type": "execute_result"
    }
   ],
   "source": [
    "X_test.shape"
   ]
  },
  {
   "cell_type": "code",
   "execution_count": 62,
   "id": "married-european",
   "metadata": {},
   "outputs": [
    {
     "data": {
      "text/plain": [
       "marvel comics        583\n",
       "dc comics            414\n",
       "shueisha              35\n",
       "dark horse comics     26\n",
       "lego                  22\n",
       "george lucas          18\n",
       "image comics          16\n",
       "nbc - heroes          15\n",
       "Name: creator, dtype: int64"
      ]
     },
     "execution_count": 62,
     "metadata": {},
     "output_type": "execute_result"
    }
   ],
   "source": [
    "df.creator.value_counts() #1129 - Naive for marvel 0.516386182462356"
   ]
  },
  {
   "cell_type": "code",
   "execution_count": null,
   "id": "behavioral-coordinate",
   "metadata": {},
   "outputs": [],
   "source": [
    "#Tuning Parameters \n",
    "# n_estimators : the number of trees in the forest of the model\n",
    "# max_depth: maximum depth of each tree, dont touch\n",
    "# min_samples_split: minimum number of samples required to split an internal leaf node.\n",
    "# min_samples_leaf: minimum number of samples required to be at a leaf node.\n",
    "#criterion{“gini”, “entropy”}, default=”gini”"
   ]
  },
  {
   "cell_type": "code",
   "execution_count": 69,
   "id": "controlled-istanbul",
   "metadata": {},
   "outputs": [],
   "source": [
    "param_grid = { \n",
    "    'n_estimators': [50, 300, 1000], #[100, 150, 200,.1000] #200 consistently the best\n",
    "    'max_features': ['sqrt'],\n",
    "    'criterion': ['gini']\n",
    "}"
   ]
  },
  {
   "cell_type": "code",
   "execution_count": 70,
   "id": "cubic-weekend",
   "metadata": {},
   "outputs": [
    {
     "data": {
      "text/plain": [
       "GridSearchCV(estimator=RandomForestClassifier(random_state=545),\n",
       "             param_grid={'criterion': ['gini'], 'max_features': ['sqrt'],\n",
       "                         'n_estimators': [50, 300, 1000]})"
      ]
     },
     "execution_count": 70,
     "metadata": {},
     "output_type": "execute_result"
    }
   ],
   "source": [
    "rfc=RandomForestClassifier(random_state=545)\n",
    "\n",
    "RF_grid = GridSearchCV(rfc, param_grid=param_grid)\n",
    "RF_grid.fit(X_train, y_train)\n"
   ]
  },
  {
   "cell_type": "code",
   "execution_count": 71,
   "id": "organic-fairy",
   "metadata": {},
   "outputs": [
    {
     "data": {
      "text/plain": [
       "{'criterion': 'gini', 'max_features': 'sqrt', 'n_estimators': 300}"
      ]
     },
     "execution_count": 71,
     "metadata": {},
     "output_type": "execute_result"
    }
   ],
   "source": [
    "RF_grid.best_params_\n"
   ]
  },
  {
   "cell_type": "code",
   "execution_count": 72,
   "id": "thorough-algeria",
   "metadata": {},
   "outputs": [
    {
     "name": "stdout",
     "output_type": "stream",
     "text": [
      "\n",
      "ACCURACY OF THE MODEL:  0.8141592920353983\n"
     ]
    }
   ],
   "source": [
    "classifier = RandomForestClassifier(n_estimators = 300 ,random_state=545)\n",
    "classifier.fit(X_train, y_train)\n",
    "y_pred = classifier.predict(X_test)\n",
    "from sklearn import metrics \n",
    "print()\n",
    "print(\"ACCURACY OF THE MODEL: \", metrics.accuracy_score(y_test, y_pred))\n",
    "#Need to beat 80.5% Accuracy (100 trees) in Tuning "
   ]
  },
  {
   "cell_type": "code",
   "execution_count": 73,
   "id": "successful-mailman",
   "metadata": {},
   "outputs": [
    {
     "name": "stdout",
     "output_type": "stream",
     "text": [
      "{'dark horse comics': 0, 'dc comics': 1, 'george lucas': 2, 'image comics': 3, 'lego': 4, 'marvel comics': 5, 'nbc - heroes': 6, 'shueisha': 7}\n"
     ]
    }
   ],
   "source": [
    "name_mappings = dict(zip(le.classes_, le.transform(le.classes_)))\n",
    "print(name_mappings)"
   ]
  },
  {
   "cell_type": "code",
   "execution_count": 74,
   "id": "thrown-sailing",
   "metadata": {},
   "outputs": [],
   "source": [
    " creators_list = ['dark horse comics','dc comics', 'george lucas','image comics','lego','marvel comics','nbc - heroes',  'shueisha', ]"
   ]
  },
  {
   "cell_type": "code",
   "execution_count": 75,
   "id": "recovered-workshop",
   "metadata": {},
   "outputs": [
    {
     "data": {
      "text/plain": [
       "array([[  0,   0,   0,   0,   0,   6,   0,   0],\n",
       "       [  0,  71,   0,   0,   0,  16,   0,   0],\n",
       "       [  0,   0,   0,   0,   0,   5,   0,   0],\n",
       "       [  0,   0,   0,   0,   0,   3,   0,   0],\n",
       "       [  0,   2,   0,   0,   1,   0,   0,   0],\n",
       "       [  0,   5,   0,   0,   1, 108,   0,   0],\n",
       "       [  0,   0,   0,   0,   0,   2,   1,   0],\n",
       "       [  0,   1,   0,   0,   0,   1,   0,   3]])"
      ]
     },
     "execution_count": 75,
     "metadata": {},
     "output_type": "execute_result"
    }
   ],
   "source": [
    "prediction = le.inverse_transform(y_pred)\n",
    "test  = le.inverse_transform(y_test)\n",
    "confusion_matrix(y_test, y_pred)"
   ]
  },
  {
   "cell_type": "code",
   "execution_count": 76,
   "id": "entire-drawing",
   "metadata": {},
   "outputs": [
    {
     "data": {
      "image/png": "[encoded data removed]",
      "text/plain": [
       "<Figure size 576x576 with 2 Axes>"
      ]
     },
     "metadata": {},
     "output_type": "display_data"
    }
   ],
   "source": [
    "# Get and reshape confusion matrix data\n",
    "import matplotlib.pyplot as plt\n",
    "import seaborn as sns\n",
    "\n",
    "conf_mat = confusion_matrix(test, prediction)\n",
    "fig, ax = plt.subplots(figsize=(8,8))\n",
    "sns.heatmap(conf_mat, annot=True, cmap=\"Reds\", fmt='d',\n",
    "            xticklabels=creators_list, \n",
    "            yticklabels=creators_list)\n",
    "plt.ylabel('Actual')\n",
    "plt.xlabel('Predicted')\n",
    "plt.title(\"Confusion Matrix - Random Forest\\n\", size=16);"
   ]
  },
  {
   "cell_type": "code",
   "execution_count": 77,
   "id": "patent-professional",
   "metadata": {},
   "outputs": [
    {
     "name": "stdout",
     "output_type": "stream",
     "text": [
      "              precision    recall  f1-score   support\n",
      "\n",
      "           0       0.00      0.00      0.00         6\n",
      "           1       0.90      0.82      0.86        87\n",
      "           2       0.00      0.00      0.00         5\n",
      "           3       0.00      0.00      0.00         3\n",
      "           4       0.50      0.33      0.40         3\n",
      "           5       0.77      0.95      0.85       114\n",
      "           6       1.00      0.33      0.50         3\n",
      "           7       1.00      0.60      0.75         5\n",
      "\n",
      "    accuracy                           0.81       226\n",
      "   macro avg       0.52      0.38      0.42       226\n",
      "weighted avg       0.77      0.81      0.79       226\n",
      "\n"
     ]
    },
    {
     "name": "stderr",
     "output_type": "stream",
     "text": [
      "/usr/local/lib/python3.9/site-packages/sklearn/metrics/_classification.py:1245: UndefinedMetricWarning: Precision and F-score are ill-defined and being set to 0.0 in labels with no predicted samples. Use `zero_division` parameter to control this behavior.\n",
      "  _warn_prf(average, modifier, msg_start, len(result))\n",
      "/usr/local/lib/python3.9/site-packages/sklearn/metrics/_classification.py:1245: UndefinedMetricWarning: Precision and F-score are ill-defined and being set to 0.0 in labels with no predicted samples. Use `zero_division` parameter to control this behavior.\n",
      "  _warn_prf(average, modifier, msg_start, len(result))\n",
      "/usr/local/lib/python3.9/site-packages/sklearn/metrics/_classification.py:1245: UndefinedMetricWarning: Precision and F-score are ill-defined and being set to 0.0 in labels with no predicted samples. Use `zero_division` parameter to control this behavior.\n",
      "  _warn_prf(average, modifier, msg_start, len(result))\n"
     ]
    }
   ],
   "source": [
    "print(classification_report(y_test, y_pred))"
   ]
  },
  {
   "cell_type": "code",
   "execution_count": null,
   "id": "double-falls",
   "metadata": {},
   "outputs": [],
   "source": []
  }
 ],
 "metadata": {
  "kernelspec": {
   "display_name": "Python 3",
   "language": "python",
   "name": "python3"
  },
  "language_info": {
   "codemirror_mode": {
    "name": "ipython",
    "version": 3
   },
   "file_extension": ".py",
   "mimetype": "text/x-python",
   "name": "python",
   "nbconvert_exporter": "python",
   "pygments_lexer": "ipython3",
   "version": "3.9.9"
  }
 },
 "nbformat": 4,
 "nbformat_minor": 5
}
